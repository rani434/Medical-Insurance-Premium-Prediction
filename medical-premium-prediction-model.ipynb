{
 "cells": [
  {
   "cell_type": "code",
   "execution_count": 1,
   "metadata": {
    "_execution_state": "idle",
    "_uuid": "051d70d956493feee0c6d64651c6a088724dca2a",
    "execution": {
     "iopub.execute_input": "2021-08-21T16:07:04.582670Z",
     "iopub.status.busy": "2021-08-21T16:07:04.580247Z",
     "iopub.status.idle": "2021-08-21T16:07:04.612595Z"
    }
   },
   "outputs": [
    {
     "ename": "ERROR",
     "evalue": "Error in library(tidyverse): there is no package called 'tidyverse'\n",
     "output_type": "error",
     "traceback": [
      "Error in library(tidyverse): there is no package called 'tidyverse'\nTraceback:\n",
      "1. library(tidyverse)"
     ]
    }
   ],
   "source": [
    "# This R environment comes with many helpful analytics packages installed\n",
    "# It is defined by the kaggle/rstats Docker image: https://github.com/kaggle/docker-rstats\n",
    "# For example, here's a helpful package to load\n",
    "\n",
    "library(tidyverse) # metapackage of all tidyverse packages\n",
    "\n",
    "# Input data files are available in the read-only \"../input/\" directory\n",
    "# For example, running this (by clicking run or pressing Shift+Enter) will list all files under the input directory\n",
    "\n",
    "list.files(path = \"../input\")\n",
    "\n",
    "# You can write up to 20GB to the current directory (/kaggle/working/) that gets preserved as output when you create a version using \"Save & Run All\" \n",
    "# You can also write temporary files to /kaggle/temp/, but they won't be saved outside of the current session"
   ]
  },
  {
   "cell_type": "code",
   "execution_count": 2,
   "metadata": {
    "execution": {
     "iopub.execute_input": "2021-08-21T16:07:04.618243Z",
     "iopub.status.busy": "2021-08-21T16:07:04.616202Z",
     "iopub.status.idle": "2021-08-21T16:07:04.646810Z"
    }
   },
   "outputs": [
    {
     "ename": "ERROR",
     "evalue": "Error in library(tidyverse): there is no package called 'tidyverse'\n",
     "output_type": "error",
     "traceback": [
      "Error in library(tidyverse): there is no package called 'tidyverse'\nTraceback:\n",
      "1. library(tidyverse)"
     ]
    }
   ],
   "source": [
    "library(tidyverse)\n",
    "library(ggrepel)\n",
    "library(reshape2)\n",
    "library(ggExtra)\n",
    "library(GGally)\n",
    "library(hrbrthemes)"
   ]
  },
  {
   "cell_type": "code",
   "execution_count": 7,
   "metadata": {
    "execution": {
     "iopub.execute_input": "2021-08-21T16:07:04.651368Z",
     "iopub.status.busy": "2021-08-21T16:07:04.649637Z",
     "iopub.status.idle": "2021-08-21T16:07:04.674865Z"
    }
   },
   "outputs": [],
   "source": [
    "data <- read.csv(\"Medicalpremium.csv\")"
   ]
  },
  {
   "cell_type": "markdown",
   "metadata": {},
   "source": [
    "# **Exploratory Data Analysis**"
   ]
  },
  {
   "cell_type": "code",
   "execution_count": 8,
   "metadata": {
    "execution": {
     "iopub.execute_input": "2021-08-21T16:07:04.679570Z",
     "iopub.status.busy": "2021-08-21T16:07:04.677847Z",
     "iopub.status.idle": "2021-08-21T16:07:04.719373Z"
    }
   },
   "outputs": [
    {
     "data": {
      "text/html": [
       "<table>\n",
       "<thead><tr><th scope=col>Age</th><th scope=col>Diabetes</th><th scope=col>BloodPressureProblems</th><th scope=col>AnyTransplants</th><th scope=col>AnyChronicDiseases</th><th scope=col>Height</th><th scope=col>Weight</th><th scope=col>KnownAllergies</th><th scope=col>HistoryOfCancerInFamily</th><th scope=col>NumberOfMajorSurgeries</th><th scope=col>PremiumPrice</th></tr></thead>\n",
       "<tbody>\n",
       "\t<tr><td>45   </td><td>0    </td><td>0    </td><td>0    </td><td>0    </td><td>155  </td><td>57   </td><td>0    </td><td>0    </td><td>0    </td><td>25000</td></tr>\n",
       "\t<tr><td>60   </td><td>1    </td><td>0    </td><td>0    </td><td>0    </td><td>180  </td><td>73   </td><td>0    </td><td>0    </td><td>0    </td><td>29000</td></tr>\n",
       "\t<tr><td>36   </td><td>1    </td><td>1    </td><td>0    </td><td>0    </td><td>158  </td><td>59   </td><td>0    </td><td>0    </td><td>1    </td><td>23000</td></tr>\n",
       "\t<tr><td>52   </td><td>1    </td><td>1    </td><td>0    </td><td>1    </td><td>183  </td><td>93   </td><td>0    </td><td>0    </td><td>2    </td><td>28000</td></tr>\n",
       "\t<tr><td>38   </td><td>0    </td><td>0    </td><td>0    </td><td>1    </td><td>166  </td><td>88   </td><td>0    </td><td>0    </td><td>1    </td><td>23000</td></tr>\n",
       "\t<tr><td>30   </td><td>0    </td><td>0    </td><td>0    </td><td>0    </td><td>160  </td><td>69   </td><td>1    </td><td>0    </td><td>1    </td><td>23000</td></tr>\n",
       "</tbody>\n",
       "</table>\n"
      ],
      "text/latex": [
       "\\begin{tabular}{r|lllllllllll}\n",
       " Age & Diabetes & BloodPressureProblems & AnyTransplants & AnyChronicDiseases & Height & Weight & KnownAllergies & HistoryOfCancerInFamily & NumberOfMajorSurgeries & PremiumPrice\\\\\n",
       "\\hline\n",
       "\t 45    & 0     & 0     & 0     & 0     & 155   & 57    & 0     & 0     & 0     & 25000\\\\\n",
       "\t 60    & 1     & 0     & 0     & 0     & 180   & 73    & 0     & 0     & 0     & 29000\\\\\n",
       "\t 36    & 1     & 1     & 0     & 0     & 158   & 59    & 0     & 0     & 1     & 23000\\\\\n",
       "\t 52    & 1     & 1     & 0     & 1     & 183   & 93    & 0     & 0     & 2     & 28000\\\\\n",
       "\t 38    & 0     & 0     & 0     & 1     & 166   & 88    & 0     & 0     & 1     & 23000\\\\\n",
       "\t 30    & 0     & 0     & 0     & 0     & 160   & 69    & 1     & 0     & 1     & 23000\\\\\n",
       "\\end{tabular}\n"
      ],
      "text/markdown": [
       "\n",
       "| Age | Diabetes | BloodPressureProblems | AnyTransplants | AnyChronicDiseases | Height | Weight | KnownAllergies | HistoryOfCancerInFamily | NumberOfMajorSurgeries | PremiumPrice |\n",
       "|---|---|---|---|---|---|---|---|---|---|---|\n",
       "| 45    | 0     | 0     | 0     | 0     | 155   | 57    | 0     | 0     | 0     | 25000 |\n",
       "| 60    | 1     | 0     | 0     | 0     | 180   | 73    | 0     | 0     | 0     | 29000 |\n",
       "| 36    | 1     | 1     | 0     | 0     | 158   | 59    | 0     | 0     | 1     | 23000 |\n",
       "| 52    | 1     | 1     | 0     | 1     | 183   | 93    | 0     | 0     | 2     | 28000 |\n",
       "| 38    | 0     | 0     | 0     | 1     | 166   | 88    | 0     | 0     | 1     | 23000 |\n",
       "| 30    | 0     | 0     | 0     | 0     | 160   | 69    | 1     | 0     | 1     | 23000 |\n",
       "\n"
      ],
      "text/plain": [
       "  Age Diabetes BloodPressureProblems AnyTransplants AnyChronicDiseases Height\n",
       "1 45  0        0                     0              0                  155   \n",
       "2 60  1        0                     0              0                  180   \n",
       "3 36  1        1                     0              0                  158   \n",
       "4 52  1        1                     0              1                  183   \n",
       "5 38  0        0                     0              1                  166   \n",
       "6 30  0        0                     0              0                  160   \n",
       "  Weight KnownAllergies HistoryOfCancerInFamily NumberOfMajorSurgeries\n",
       "1 57     0              0                       0                     \n",
       "2 73     0              0                       0                     \n",
       "3 59     0              0                       1                     \n",
       "4 93     0              0                       2                     \n",
       "5 88     0              0                       1                     \n",
       "6 69     1              0                       1                     \n",
       "  PremiumPrice\n",
       "1 25000       \n",
       "2 29000       \n",
       "3 23000       \n",
       "4 28000       \n",
       "5 23000       \n",
       "6 23000       "
      ]
     },
     "metadata": {},
     "output_type": "display_data"
    }
   ],
   "source": [
    "head(data)"
   ]
  },
  {
   "cell_type": "code",
   "execution_count": 9,
   "metadata": {
    "execution": {
     "iopub.execute_input": "2021-08-21T16:07:04.725251Z",
     "iopub.status.busy": "2021-08-21T16:07:04.723267Z",
     "iopub.status.idle": "2021-08-21T16:07:04.758600Z"
    }
   },
   "outputs": [
    {
     "name": "stdout",
     "output_type": "stream",
     "text": [
      "'data.frame':\t986 obs. of  11 variables:\n",
      " $ Age                    : int  45 60 36 52 38 30 33 23 48 38 ...\n",
      " $ Diabetes               : int  0 1 1 1 0 0 0 0 1 0 ...\n",
      " $ BloodPressureProblems  : int  0 0 1 1 0 0 0 0 0 0 ...\n",
      " $ AnyTransplants         : int  0 0 0 0 0 0 0 0 0 0 ...\n",
      " $ AnyChronicDiseases     : int  0 0 0 1 1 0 0 0 0 0 ...\n",
      " $ Height                 : int  155 180 158 183 166 160 150 181 169 182 ...\n",
      " $ Weight                 : int  57 73 59 93 88 69 54 79 74 93 ...\n",
      " $ KnownAllergies         : int  0 0 0 0 0 1 0 1 1 0 ...\n",
      " $ HistoryOfCancerInFamily: int  0 0 0 0 0 0 0 0 0 0 ...\n",
      " $ NumberOfMajorSurgeries : int  0 0 1 2 1 1 0 0 0 0 ...\n",
      " $ PremiumPrice           : int  25000 29000 23000 28000 23000 23000 21000 15000 23000 23000 ...\n"
     ]
    }
   ],
   "source": [
    "str(data)"
   ]
  },
  {
   "cell_type": "code",
   "execution_count": 10,
   "metadata": {
    "execution": {
     "iopub.execute_input": "2021-08-21T16:07:04.764416Z",
     "iopub.status.busy": "2021-08-21T16:07:04.762245Z",
     "iopub.status.idle": "2021-08-21T16:07:04.785125Z"
    }
   },
   "outputs": [
    {
     "data": {
      "text/html": [
       "<ol class=list-inline>\n",
       "\t<li>986</li>\n",
       "\t<li>11</li>\n",
       "</ol>\n"
      ],
      "text/latex": [
       "\\begin{enumerate*}\n",
       "\\item 986\n",
       "\\item 11\n",
       "\\end{enumerate*}\n"
      ],
      "text/markdown": [
       "1. 986\n",
       "2. 11\n",
       "\n",
       "\n"
      ],
      "text/plain": [
       "[1] 986  11"
      ]
     },
     "metadata": {},
     "output_type": "display_data"
    }
   ],
   "source": [
    "dim(data)"
   ]
  },
  {
   "cell_type": "markdown",
   "metadata": {},
   "source": [
    "# Correlation Matrix"
   ]
  },
  {
   "cell_type": "code",
   "execution_count": 11,
   "metadata": {
    "execution": {
     "iopub.execute_input": "2021-08-21T16:07:04.789636Z",
     "iopub.status.busy": "2021-08-21T16:07:04.787983Z",
     "iopub.status.idle": "2021-08-21T16:07:05.119369Z"
    }
   },
   "outputs": [
    {
     "ename": "ERROR",
     "evalue": "Error in ggcorr(data, label = T, color = \"black\", size = 5): could not find function \"ggcorr\"\n",
     "output_type": "error",
     "traceback": [
      "Error in ggcorr(data, label = T, color = \"black\", size = 5): could not find function \"ggcorr\"\nTraceback:\n"
     ]
    }
   ],
   "source": [
    "ggcorr(data, label = T, color = \"black\", size = 5)+\n",
    "  labs(title = \"Correlation Matrix\")+\n",
    "  theme(plot.title = element_text(family = \"Roboto Condensed\", size = 19, face = \"bold\",vjust = 1),\n",
    "        plot.subtitle = element_text(family = \"Roboto Condensed\", size = 16,vjust = 0))"
   ]
  },
  {
   "cell_type": "markdown",
   "metadata": {},
   "source": [
    "##### It can be easily seen here that factor affecting Premium Price are Age, Number of Major Surgery, Any Transplant, Any Chronic Disease, Blood Pressure Problems, History of Cancer in Family, Diabeties, Weight. While factors that hardly matters are height and Known Allergies.\n",
    "##### But it should be noted that correlation between factor might not neccessary mean a causation."
   ]
  },
  {
   "cell_type": "markdown",
   "metadata": {},
   "source": [
    "# **Applying factors to different colums**"
   ]
  },
  {
   "cell_type": "code",
   "execution_count": 12,
   "metadata": {
    "execution": {
     "iopub.execute_input": "2021-08-21T16:07:05.124318Z",
     "iopub.status.busy": "2021-08-21T16:07:05.122632Z",
     "iopub.status.idle": "2021-08-21T16:07:05.152414Z"
    }
   },
   "outputs": [],
   "source": [
    "data$Diabetes <- as.factor(data$Diabetes)\n",
    "data$BloodPressureProblems <- as.factor(data$BloodPressureProblems)\n",
    "data$AnyTransplants <- as.factor(data$AnyTransplants)\n",
    "data$AnyChronicDiseases <- as.factor(data$AnyChronicDiseases)\n",
    "data$KnownAllergies <- as.factor(data$KnownAllergies)\n",
    "data$HistoryOfCancerInFamily <- as.factor(data$HistoryOfCancerInFamily)\n",
    "data$NumberOfMajorSurgeries <- as.factor(data$NumberOfMajorSurgeries)\n"
   ]
  },
  {
   "cell_type": "code",
   "execution_count": 13,
   "metadata": {
    "execution": {
     "iopub.execute_input": "2021-08-21T16:07:05.156836Z",
     "iopub.status.busy": "2021-08-21T16:07:05.155264Z",
     "iopub.status.idle": "2021-08-21T16:07:05.194214Z"
    }
   },
   "outputs": [
    {
     "name": "stdout",
     "output_type": "stream",
     "text": [
      "'data.frame':\t986 obs. of  11 variables:\n",
      " $ Age                    : int  45 60 36 52 38 30 33 23 48 38 ...\n",
      " $ Diabetes               : Factor w/ 2 levels \"0\",\"1\": 1 2 2 2 1 1 1 1 2 1 ...\n",
      " $ BloodPressureProblems  : Factor w/ 2 levels \"0\",\"1\": 1 1 2 2 1 1 1 1 1 1 ...\n",
      " $ AnyTransplants         : Factor w/ 2 levels \"0\",\"1\": 1 1 1 1 1 1 1 1 1 1 ...\n",
      " $ AnyChronicDiseases     : Factor w/ 2 levels \"0\",\"1\": 1 1 1 2 2 1 1 1 1 1 ...\n",
      " $ Height                 : int  155 180 158 183 166 160 150 181 169 182 ...\n",
      " $ Weight                 : int  57 73 59 93 88 69 54 79 74 93 ...\n",
      " $ KnownAllergies         : Factor w/ 2 levels \"0\",\"1\": 1 1 1 1 1 2 1 2 2 1 ...\n",
      " $ HistoryOfCancerInFamily: Factor w/ 2 levels \"0\",\"1\": 1 1 1 1 1 1 1 1 1 1 ...\n",
      " $ NumberOfMajorSurgeries : Factor w/ 4 levels \"0\",\"1\",\"2\",\"3\": 1 1 2 3 2 2 1 1 1 1 ...\n",
      " $ PremiumPrice           : int  25000 29000 23000 28000 23000 23000 21000 15000 23000 23000 ...\n"
     ]
    }
   ],
   "source": [
    "str(data)"
   ]
  },
  {
   "cell_type": "markdown",
   "metadata": {},
   "source": [
    "# **CALCULATING BMI**"
   ]
  },
  {
   "cell_type": "code",
   "execution_count": 14,
   "metadata": {
    "execution": {
     "iopub.execute_input": "2021-08-21T16:07:05.200092Z",
     "iopub.status.busy": "2021-08-21T16:07:05.197762Z",
     "iopub.status.idle": "2021-08-21T16:07:05.217602Z"
    }
   },
   "outputs": [],
   "source": [
    "data$bmi <- 10000*(data$Weight/(data$Height)^2)"
   ]
  },
  {
   "cell_type": "markdown",
   "metadata": {},
   "source": [
    "# **ASSIGNING CATEGORIES TO DIFFERENT BMI RANGES**"
   ]
  },
  {
   "cell_type": "code",
   "execution_count": 15,
   "metadata": {
    "execution": {
     "iopub.execute_input": "2021-08-21T16:07:05.223348Z",
     "iopub.status.busy": "2021-08-21T16:07:05.221088Z",
     "iopub.status.idle": "2021-08-21T16:07:05.245941Z"
    }
   },
   "outputs": [
    {
     "ename": "ERROR",
     "evalue": "Error in data %>% mutate(bmiCategory = case_when(bmi < 18.49999 ~ \"under weight\", : could not find function \"%>%\"\n",
     "output_type": "error",
     "traceback": [
      "Error in data %>% mutate(bmiCategory = case_when(bmi < 18.49999 ~ \"under weight\", : could not find function \"%>%\"\nTraceback:\n"
     ]
    }
   ],
   "source": [
    "data <- data %>%\n",
    "  mutate( bmiCategory = case_when(\n",
    "                                  bmi<18.49999 ~ \"under weight\",\n",
    "                                  bmi>18.5 & bmi<24.99999 ~ \"normal weight\",\n",
    "                                  bmi>25 & bmi<29.99999 ~ \"over weight\",\n",
    "                                  bmi>30 ~ \"obesity\"\n",
    "  ))"
   ]
  },
  {
   "cell_type": "markdown",
   "metadata": {},
   "source": []
  },
  {
   "cell_type": "markdown",
   "metadata": {},
   "source": [
    "#### Note that 0 means the absence of an attribute while 1 shows it's presence"
   ]
  },
  {
   "cell_type": "markdown",
   "metadata": {},
   "source": [
    "#  Diabetics People Premium Analysis"
   ]
  },
  {
   "cell_type": "markdown",
   "metadata": {},
   "source": [
    "### Average Difference in Premium Prices for Diabetic and Non-Diabetic People"
   ]
  },
  {
   "cell_type": "code",
   "execution_count": 16,
   "metadata": {
    "execution": {
     "iopub.execute_input": "2021-08-21T16:07:05.250915Z",
     "iopub.status.busy": "2021-08-21T16:07:05.249353Z",
     "iopub.status.idle": "2021-08-21T16:07:05.501058Z"
    }
   },
   "outputs": [
    {
     "ename": "ERROR",
     "evalue": "Error in data %>% select(Diabetes, PremiumPrice) %>% group_by(Diabetes) %>% : could not find function \"%>%\"\n",
     "output_type": "error",
     "traceback": [
      "Error in data %>% select(Diabetes, PremiumPrice) %>% group_by(Diabetes) %>% : could not find function \"%>%\"\nTraceback:\n"
     ]
    }
   ],
   "source": [
    "data %>% \n",
    "  select(Diabetes,PremiumPrice) %>%\n",
    "  group_by(Diabetes) %>% \n",
    "  summarise( PremiumPrice = mean(PremiumPrice)) %>% \n",
    "  ggplot(.,aes(Diabetes,PremiumPrice))+\n",
    "  geom_bar(stat = \"identity\",width = 0.4, fill = \"#56B4E9\", alpha = 0.6)+\n",
    "  labs(title = \"Bar plot for Diabetics People\")"
   ]
  },
  {
   "cell_type": "markdown",
   "metadata": {},
   "source": [
    "### Distribution of Premium Prices for Diabetic and Non-Diabetic Peoples"
   ]
  },
  {
   "cell_type": "code",
   "execution_count": 17,
   "metadata": {
    "execution": {
     "iopub.execute_input": "2021-08-21T16:07:05.517159Z",
     "iopub.status.busy": "2021-08-21T16:07:05.514939Z",
     "iopub.status.idle": "2021-08-21T16:07:06.230424Z"
    }
   },
   "outputs": [
    {
     "ename": "ERROR",
     "evalue": "Error in ggplot(data, aes(PremiumPrice)): could not find function \"ggplot\"\n",
     "output_type": "error",
     "traceback": [
      "Error in ggplot(data, aes(PremiumPrice)): could not find function \"ggplot\"\nTraceback:\n"
     ]
    }
   ],
   "source": [
    "ggplot(data, aes(PremiumPrice))+\n",
    "  geom_density(aes(fill = Diabetes), color = NA, alpha = 0.6)+\n",
    "  labs(title = \"Density plot for Diabetics and Non-diabetic proples\")"
   ]
  },
  {
   "cell_type": "markdown",
   "metadata": {},
   "source": [
    "#  Blood Pressure Patients Premium Analysis"
   ]
  },
  {
   "cell_type": "markdown",
   "metadata": {},
   "source": [
    "### Average Difference in Premium Prices for Blood Pressure patients and Non-Blood Pressure Patients"
   ]
  },
  {
   "cell_type": "code",
   "execution_count": 18,
   "metadata": {
    "execution": {
     "iopub.execute_input": "2021-08-21T16:07:06.235565Z",
     "iopub.status.busy": "2021-08-21T16:07:06.233462Z",
     "iopub.status.idle": "2021-08-21T16:07:06.485873Z"
    }
   },
   "outputs": [
    {
     "ename": "ERROR",
     "evalue": "Error in data %>% select(BloodPressureProblems, PremiumPrice) %>% group_by(BloodPressureProblems) %>% : could not find function \"%>%\"\n",
     "output_type": "error",
     "traceback": [
      "Error in data %>% select(BloodPressureProblems, PremiumPrice) %>% group_by(BloodPressureProblems) %>% : could not find function \"%>%\"\nTraceback:\n"
     ]
    }
   ],
   "source": [
    "data %>% \n",
    "  select(BloodPressureProblems,PremiumPrice) %>%\n",
    "  group_by(BloodPressureProblems) %>% \n",
    "  summarise( PremiumPrice = mean(PremiumPrice)) %>% \n",
    "  ggplot(.,aes(BloodPressureProblems,PremiumPrice))+\n",
    "  geom_bar(stat = \"identity\",width = 0.4, fill = \"#56B4E9\", alpha = 0.6)+\n",
    "  labs(title = \"Bar plot for blood pressure problem\")"
   ]
  },
  {
   "cell_type": "markdown",
   "metadata": {},
   "source": [
    "### Distribution of Premium Prices for Blood Pressure Patients and Non-Blood Pressure Patients"
   ]
  },
  {
   "cell_type": "code",
   "execution_count": 19,
   "metadata": {
    "execution": {
     "iopub.execute_input": "2021-08-21T16:07:06.490995Z",
     "iopub.status.busy": "2021-08-21T16:07:06.489120Z",
     "iopub.status.idle": "2021-08-21T16:07:06.834353Z"
    }
   },
   "outputs": [
    {
     "ename": "ERROR",
     "evalue": "Error in ggplot(data, aes(PremiumPrice)): could not find function \"ggplot\"\n",
     "output_type": "error",
     "traceback": [
      "Error in ggplot(data, aes(PremiumPrice)): could not find function \"ggplot\"\nTraceback:\n"
     ]
    }
   ],
   "source": [
    "ggplot(data, aes(PremiumPrice))+\n",
    "  geom_density(aes(fill = BloodPressureProblems), color = NA, alpha = 0.6)+\n",
    "  labs(title = \"Density plot for people with and without blood pressure problems\")"
   ]
  },
  {
   "cell_type": "markdown",
   "metadata": {},
   "source": [
    "#  People Gone Through Any Transplants Premium Analysis"
   ]
  },
  {
   "cell_type": "markdown",
   "metadata": {},
   "source": [
    "### Average Difference in Premium Prices for People Gone Through Any Transplants vs Those Who haven't Gone Through Any Transplants"
   ]
  },
  {
   "cell_type": "code",
   "execution_count": 20,
   "metadata": {
    "execution": {
     "iopub.execute_input": "2021-08-21T16:07:06.838665Z",
     "iopub.status.busy": "2021-08-21T16:07:06.837117Z",
     "iopub.status.idle": "2021-08-21T16:07:07.078094Z"
    }
   },
   "outputs": [
    {
     "ename": "ERROR",
     "evalue": "Error in data %>% select(AnyTransplants, PremiumPrice) %>% group_by(AnyTransplants) %>% : could not find function \"%>%\"\n",
     "output_type": "error",
     "traceback": [
      "Error in data %>% select(AnyTransplants, PremiumPrice) %>% group_by(AnyTransplants) %>% : could not find function \"%>%\"\nTraceback:\n"
     ]
    }
   ],
   "source": [
    "data %>% \n",
    "  select(AnyTransplants,PremiumPrice) %>%\n",
    "  group_by(AnyTransplants) %>% \n",
    "  summarise( PremiumPrice = mean(PremiumPrice)) %>% \n",
    "  ggplot(.,aes(AnyTransplants,PremiumPrice))+\n",
    "  geom_bar(stat = \"identity\",width = 0.4, fill = \"#56B4E9\", alpha = 0.6)+\n",
    "  labs(title = \"Bar plot for people gone through any transplants\")"
   ]
  },
  {
   "cell_type": "markdown",
   "metadata": {},
   "source": [
    "### Distribution of Premium Prices for People Gone Through Any Transplants vs Those Who haven't Gone Through Any Transplants"
   ]
  },
  {
   "cell_type": "code",
   "execution_count": 21,
   "metadata": {
    "execution": {
     "iopub.execute_input": "2021-08-21T16:07:07.082735Z",
     "iopub.status.busy": "2021-08-21T16:07:07.081017Z",
     "iopub.status.idle": "2021-08-21T16:07:07.421112Z"
    }
   },
   "outputs": [
    {
     "ename": "ERROR",
     "evalue": "Error in ggplot(data, aes(PremiumPrice)): could not find function \"ggplot\"\n",
     "output_type": "error",
     "traceback": [
      "Error in ggplot(data, aes(PremiumPrice)): could not find function \"ggplot\"\nTraceback:\n"
     ]
    }
   ],
   "source": [
    "ggplot(data, aes(PremiumPrice))+\n",
    "  geom_density(aes(fill = AnyTransplants), color = NA, alpha = 0.6)+\n",
    "  labs(title = \"Density plot for people gone through any transpalnts\")\n"
   ]
  },
  {
   "cell_type": "markdown",
   "metadata": {},
   "source": [
    "#  People With Chronic Disease Premium Analysis"
   ]
  },
  {
   "cell_type": "markdown",
   "metadata": {},
   "source": [
    "### Average Difference in Premium Prices for People With Chronic Disease  and People With No Chronic Disease "
   ]
  },
  {
   "cell_type": "code",
   "execution_count": 22,
   "metadata": {
    "execution": {
     "iopub.execute_input": "2021-08-21T16:07:07.425486Z",
     "iopub.status.busy": "2021-08-21T16:07:07.423927Z",
     "iopub.status.idle": "2021-08-21T16:07:07.668371Z"
    }
   },
   "outputs": [
    {
     "ename": "ERROR",
     "evalue": "Error in data %>% select(AnyChronicDiseases, PremiumPrice) %>% group_by(AnyChronicDiseases) %>% : could not find function \"%>%\"\n",
     "output_type": "error",
     "traceback": [
      "Error in data %>% select(AnyChronicDiseases, PremiumPrice) %>% group_by(AnyChronicDiseases) %>% : could not find function \"%>%\"\nTraceback:\n"
     ]
    }
   ],
   "source": [
    "data %>% \n",
    "  select(AnyChronicDiseases,PremiumPrice) %>%\n",
    "  group_by(AnyChronicDiseases) %>% \n",
    "  summarise( PremiumPrice = mean(PremiumPrice)) %>% \n",
    "  ggplot(.,aes(AnyChronicDiseases,PremiumPrice))+\n",
    "  geom_bar(stat = \"identity\",width = 0.4, fill = \"#56B4E9\", alpha = 0.6)+\n",
    "  labs(title = \"Bar plot for people with cronic disease\")"
   ]
  },
  {
   "cell_type": "markdown",
   "metadata": {},
   "source": [
    "### Distribution of Premium Prices for People With Chronic Disease and People With No Chronic Disease "
   ]
  },
  {
   "cell_type": "code",
   "execution_count": 23,
   "metadata": {
    "execution": {
     "iopub.execute_input": "2021-08-21T16:07:07.673141Z",
     "iopub.status.busy": "2021-08-21T16:07:07.671401Z",
     "iopub.status.idle": "2021-08-21T16:07:08.043440Z"
    }
   },
   "outputs": [
    {
     "ename": "ERROR",
     "evalue": "Error in ggplot(data, aes(PremiumPrice)): could not find function \"ggplot\"\n",
     "output_type": "error",
     "traceback": [
      "Error in ggplot(data, aes(PremiumPrice)): could not find function \"ggplot\"\nTraceback:\n"
     ]
    }
   ],
   "source": [
    "ggplot(data, aes(PremiumPrice))+\n",
    "  geom_density(aes(fill = AnyChronicDiseases), color = NA, alpha = 0.6)+\n",
    "  labs(title = \"Density plot for  having chronic diseases\")\n"
   ]
  },
  {
   "cell_type": "markdown",
   "metadata": {},
   "source": [
    "#  Allergy Patients Premium Analysis"
   ]
  },
  {
   "cell_type": "markdown",
   "metadata": {},
   "source": [
    "### Average Difference in Premium Prices for Allergy patients and No Allergy Patients"
   ]
  },
  {
   "cell_type": "code",
   "execution_count": 24,
   "metadata": {
    "execution": {
     "iopub.execute_input": "2021-08-21T16:07:08.049012Z",
     "iopub.status.busy": "2021-08-21T16:07:08.047194Z",
     "iopub.status.idle": "2021-08-21T16:07:08.288922Z"
    }
   },
   "outputs": [
    {
     "ename": "ERROR",
     "evalue": "Error in data %>% select(KnownAllergies, PremiumPrice) %>% group_by(KnownAllergies) %>% : could not find function \"%>%\"\n",
     "output_type": "error",
     "traceback": [
      "Error in data %>% select(KnownAllergies, PremiumPrice) %>% group_by(KnownAllergies) %>% : could not find function \"%>%\"\nTraceback:\n"
     ]
    }
   ],
   "source": [
    "data %>% \n",
    "  select(KnownAllergies,PremiumPrice) %>%\n",
    "  group_by(KnownAllergies) %>% \n",
    "  summarise( PremiumPrice = mean(PremiumPrice)) %>% \n",
    "  ggplot(.,aes(KnownAllergies,PremiumPrice))+\n",
    "  geom_bar(stat = \"identity\",width = 0.4, fill = \"#56B4E9\", alpha = 0.6)+\n",
    "  labs(title = \"Bar plot for people having allergies\")"
   ]
  },
  {
   "cell_type": "markdown",
   "metadata": {},
   "source": [
    "### Distribution of Premium Prices for Allergy Patients and No Allergy Patients"
   ]
  },
  {
   "cell_type": "code",
   "execution_count": 25,
   "metadata": {
    "execution": {
     "iopub.execute_input": "2021-08-21T16:07:08.295368Z",
     "iopub.status.busy": "2021-08-21T16:07:08.293573Z",
     "iopub.status.idle": "2021-08-21T16:07:08.666105Z"
    }
   },
   "outputs": [
    {
     "ename": "ERROR",
     "evalue": "Error in ggplot(data, aes(PremiumPrice)): could not find function \"ggplot\"\n",
     "output_type": "error",
     "traceback": [
      "Error in ggplot(data, aes(PremiumPrice)): could not find function \"ggplot\"\nTraceback:\n"
     ]
    }
   ],
   "source": [
    "ggplot(data, aes(PremiumPrice))+\n",
    "  geom_density(aes(fill = KnownAllergies), color = NA, alpha = 0.6)+\n",
    "  labs(title = \"Density plot for people with and without allergies\")\n"
   ]
  },
  {
   "cell_type": "markdown",
   "metadata": {},
   "source": [
    "#  Patients with History of Cancer in Family Premium Analysis"
   ]
  },
  {
   "cell_type": "markdown",
   "metadata": {},
   "source": [
    "### Average Difference in Premium Prices for Patients with History of Cancer and Patients without History of Cancer"
   ]
  },
  {
   "cell_type": "code",
   "execution_count": 26,
   "metadata": {
    "execution": {
     "iopub.execute_input": "2021-08-21T16:07:08.672864Z",
     "iopub.status.busy": "2021-08-21T16:07:08.670984Z",
     "iopub.status.idle": "2021-08-21T16:07:08.923057Z"
    }
   },
   "outputs": [
    {
     "ename": "ERROR",
     "evalue": "Error in data %>% select(HistoryOfCancerInFamily, PremiumPrice) %>% group_by(HistoryOfCancerInFamily) %>% : could not find function \"%>%\"\n",
     "output_type": "error",
     "traceback": [
      "Error in data %>% select(HistoryOfCancerInFamily, PremiumPrice) %>% group_by(HistoryOfCancerInFamily) %>% : could not find function \"%>%\"\nTraceback:\n"
     ]
    }
   ],
   "source": [
    "data %>% \n",
    "  select(HistoryOfCancerInFamily,PremiumPrice) %>%\n",
    "  group_by(HistoryOfCancerInFamily) %>% \n",
    "  summarise( PremiumPrice = mean(PremiumPrice)) %>% \n",
    "  ggplot(.,aes(HistoryOfCancerInFamily,PremiumPrice))+\n",
    "  geom_bar(stat = \"identity\",width = 0.4, fill = \"#56B4E9\", alpha = 0.6)+\n",
    "  labs(title = \"Bar plot for people with history of cancers\")"
   ]
  },
  {
   "cell_type": "markdown",
   "metadata": {},
   "source": [
    "### Distribution of Premium Prices for Patients with History of Cancer and Patients without History of Cancer"
   ]
  },
  {
   "cell_type": "code",
   "execution_count": 27,
   "metadata": {
    "execution": {
     "iopub.execute_input": "2021-08-21T16:07:08.927841Z",
     "iopub.status.busy": "2021-08-21T16:07:08.926062Z",
     "iopub.status.idle": "2021-08-21T16:07:09.283661Z"
    }
   },
   "outputs": [
    {
     "ename": "ERROR",
     "evalue": "Error in ggplot(data, aes(PremiumPrice)): could not find function \"ggplot\"\n",
     "output_type": "error",
     "traceback": [
      "Error in ggplot(data, aes(PremiumPrice)): could not find function \"ggplot\"\nTraceback:\n"
     ]
    }
   ],
   "source": [
    "ggplot(data, aes(PremiumPrice))+\n",
    "  geom_density(aes(fill = HistoryOfCancerInFamily), color = NA, alpha = 0.6)+\n",
    "  labs(title = \"Density plot for people with and without history of cancers\")\n",
    "\n"
   ]
  },
  {
   "cell_type": "markdown",
   "metadata": {},
   "source": [
    "#  People Gone Through Major Surgeries Premium Analysis"
   ]
  },
  {
   "cell_type": "markdown",
   "metadata": {},
   "source": [
    "### Average Difference in Premium Prices for People gone through major surgeries"
   ]
  },
  {
   "cell_type": "code",
   "execution_count": 28,
   "metadata": {
    "execution": {
     "iopub.execute_input": "2021-08-21T16:07:09.288477Z",
     "iopub.status.busy": "2021-08-21T16:07:09.286801Z",
     "iopub.status.idle": "2021-08-21T16:07:09.539495Z"
    }
   },
   "outputs": [
    {
     "ename": "ERROR",
     "evalue": "Error in data %>% select(NumberOfMajorSurgeries, PremiumPrice) %>% group_by(NumberOfMajorSurgeries) %>% : could not find function \"%>%\"\n",
     "output_type": "error",
     "traceback": [
      "Error in data %>% select(NumberOfMajorSurgeries, PremiumPrice) %>% group_by(NumberOfMajorSurgeries) %>% : could not find function \"%>%\"\nTraceback:\n"
     ]
    }
   ],
   "source": [
    "data %>% \n",
    "  select(NumberOfMajorSurgeries,PremiumPrice) %>%\n",
    "  group_by(NumberOfMajorSurgeries) %>% \n",
    "  summarise( PremiumPrice = mean(PremiumPrice)) %>% \n",
    "  ggplot(.,aes(NumberOfMajorSurgeries,PremiumPrice))+\n",
    "  geom_bar(stat = \"identity\",width = 0.4, fill = \"#56B4E9\", alpha = 0.6)+\n",
    "  labs(title = \"Bar plot for major surgeries\")"
   ]
  },
  {
   "cell_type": "markdown",
   "metadata": {},
   "source": [
    "### Distribution of Premium Prices for People gone through major surgeries\n",
    "#####  Here people with 4 are charged constant 28000 hence neglected that uniform distribution"
   ]
  },
  {
   "cell_type": "code",
   "execution_count": 29,
   "metadata": {
    "execution": {
     "iopub.execute_input": "2021-08-21T16:07:09.544066Z",
     "iopub.status.busy": "2021-08-21T16:07:09.542429Z",
     "iopub.status.idle": "2021-08-21T16:07:09.953968Z"
    }
   },
   "outputs": [
    {
     "ename": "ERROR",
     "evalue": "Error in ggplot(data %>% select(NumberOfMajorSurgeries, PremiumPrice) %>% : could not find function \"ggplot\"\n",
     "output_type": "error",
     "traceback": [
      "Error in ggplot(data %>% select(NumberOfMajorSurgeries, PremiumPrice) %>% : could not find function \"ggplot\"\nTraceback:\n"
     ]
    }
   ],
   "source": [
    "ggplot(data %>% \n",
    "         select(NumberOfMajorSurgeries,PremiumPrice) %>%\n",
    "         filter(!NumberOfMajorSurgeries == 3),\n",
    "         aes(PremiumPrice))+\n",
    "  geom_density(aes(fill = NumberOfMajorSurgeries), color = NA, alpha = 0.6)+\n",
    "  labs(title = \"Density plot for people with differnt number of surgeries\")\n"
   ]
  },
  {
   "cell_type": "markdown",
   "metadata": {},
   "source": [
    "# Box and Whisker Plot for Different BMI category "
   ]
  },
  {
   "cell_type": "code",
   "execution_count": 30,
   "metadata": {
    "execution": {
     "iopub.execute_input": "2021-08-21T16:07:09.958600Z",
     "iopub.status.busy": "2021-08-21T16:07:09.956981Z",
     "iopub.status.idle": "2021-08-21T16:07:10.519884Z"
    }
   },
   "outputs": [
    {
     "ename": "ERROR",
     "evalue": "Error in data %>% mutate(bmiCategory = str_to_title(bmiCategory)) %>% : could not find function \"%>%\"\n",
     "output_type": "error",
     "traceback": [
      "Error in data %>% mutate(bmiCategory = str_to_title(bmiCategory)) %>% : could not find function \"%>%\"\nTraceback:\n"
     ]
    }
   ],
   "source": [
    "data %>% \n",
    "  mutate(bmiCategory = str_to_title(bmiCategory)) %>% \n",
    "  \n",
    "  ggplot(aes(bmiCategory, PremiumPrice))+\n",
    "  geom_boxplot()+\n",
    "  geom_jitter(aes(color = bmiCategory),alpha = 0.4)+\n",
    "  labs(title = \"Distribution of Premium Price Over Differnt BMI category\")+\n",
    "  theme_ipsum_rc()"
   ]
  },
  {
   "cell_type": "markdown",
   "metadata": {},
   "source": [
    "# **Prediction Model**"
   ]
  },
  {
   "cell_type": "code",
   "execution_count": 31,
   "metadata": {
    "execution": {
     "iopub.execute_input": "2021-08-21T16:07:10.526385Z",
     "iopub.status.busy": "2021-08-21T16:07:10.523794Z",
     "iopub.status.idle": "2021-08-21T16:07:10.545171Z"
    }
   },
   "outputs": [
    {
     "ename": "ERROR",
     "evalue": "Error in library(randomForest): there is no package called 'randomForest'\n",
     "output_type": "error",
     "traceback": [
      "Error in library(randomForest): there is no package called 'randomForest'\nTraceback:\n",
      "1. library(randomForest)"
     ]
    }
   ],
   "source": [
    "library(randomForest)\n",
    "library(caTools)"
   ]
  },
  {
   "cell_type": "code",
   "execution_count": 32,
   "metadata": {
    "execution": {
     "iopub.execute_input": "2021-08-21T16:07:10.550098Z",
     "iopub.status.busy": "2021-08-21T16:07:10.548227Z",
     "iopub.status.idle": "2021-08-21T16:07:10.575937Z"
    }
   },
   "outputs": [
    {
     "data": {
      "text/plain": [
       "      Age        Diabetes BloodPressureProblems AnyTransplants\n",
       " Min.   :18.00   0:572    0:524                 0:931         \n",
       " 1st Qu.:30.00   1:414    1:462                 1: 55         \n",
       " Median :42.00                                                \n",
       " Mean   :41.75                                                \n",
       " 3rd Qu.:53.00                                                \n",
       " Max.   :66.00                                                \n",
       "                                                              \n",
       " AnyChronicDiseases     Height          Weight       KnownAllergies\n",
       " 0:808              Min.   :145.0   Min.   : 51.00   0:774         \n",
       " 1:178              1st Qu.:161.0   1st Qu.: 67.00   1:212         \n",
       "                    Median :168.0   Median : 75.00                 \n",
       "                    Mean   :168.2   Mean   : 76.95                 \n",
       "                    3rd Qu.:176.0   3rd Qu.: 87.00                 \n",
       "                    Max.   :188.0   Max.   :132.00                 \n",
       "                                                                   \n",
       " HistoryOfCancerInFamily NumberOfMajorSurgeries  PremiumPrice      bmi       \n",
       " 0:870                   0:479                  23000  :249   Min.   :15.16  \n",
       " 1:116                   1:372                  15000  :202   1st Qu.:23.39  \n",
       "                         2:119                  28000  :132   Median :27.16  \n",
       "                         3: 16                  25000  :103   Mean   :27.46  \n",
       "                                                29000  : 72   3rd Qu.:30.76  \n",
       "                                                30000  : 47   Max.   :50.00  \n",
       "                                                (Other):181                  "
      ]
     },
     "metadata": {},
     "output_type": "display_data"
    }
   ],
   "source": [
    "data$PremiumPrice <- as.factor(data$PremiumPrice)\n",
    "summary(data)"
   ]
  },
  {
   "cell_type": "markdown",
   "metadata": {},
   "source": [
    "### **Spliting Data into two Subset for Training and Testing use.**"
   ]
  },
  {
   "cell_type": "code",
   "execution_count": 33,
   "metadata": {
    "execution": {
     "iopub.execute_input": "2021-08-21T16:07:10.580446Z",
     "iopub.status.busy": "2021-08-21T16:07:10.578823Z",
     "iopub.status.idle": "2021-08-21T16:07:10.605221Z"
    }
   },
   "outputs": [
    {
     "ename": "ERROR",
     "evalue": "Error in sample.split(data$PremiumPrice, SplitRatio = 0.75): could not find function \"sample.split\"\n",
     "output_type": "error",
     "traceback": [
      "Error in sample.split(data$PremiumPrice, SplitRatio = 0.75): could not find function \"sample.split\"\nTraceback:\n"
     ]
    }
   ],
   "source": [
    "sample <- sample.split(data$PremiumPrice, SplitRatio = 0.75)\n",
    "train <- subset(data, sample == TRUE)\n",
    "test <- subset(data, sample == FALSE)"
   ]
  },
  {
   "cell_type": "code",
   "execution_count": 34,
   "metadata": {
    "execution": {
     "iopub.execute_input": "2021-08-21T16:07:10.609706Z",
     "iopub.status.busy": "2021-08-21T16:07:10.608084Z",
     "iopub.status.idle": "2021-08-21T16:07:10.634182Z"
    }
   },
   "outputs": [
    {
     "ename": "ERROR",
     "evalue": "Error in eval(expr, envir, enclos): object 'train' not found\n",
     "output_type": "error",
     "traceback": [
      "Error in eval(expr, envir, enclos): object 'train' not found\nTraceback:\n"
     ]
    }
   ],
   "source": [
    "dim(train)\n",
    "dim(test)"
   ]
  },
  {
   "cell_type": "markdown",
   "metadata": {},
   "source": [
    "#### Creating Random Forest Model"
   ]
  },
  {
   "cell_type": "code",
   "execution_count": 35,
   "metadata": {
    "execution": {
     "iopub.execute_input": "2021-08-21T16:07:10.638512Z",
     "iopub.status.busy": "2021-08-21T16:07:10.636923Z",
     "iopub.status.idle": "2021-08-21T16:07:11.308101Z"
    }
   },
   "outputs": [
    {
     "ename": "ERROR",
     "evalue": "Error in randomForest(PremiumPrice ~ ., data = train): could not find function \"randomForest\"\n",
     "output_type": "error",
     "traceback": [
      "Error in randomForest(PremiumPrice ~ ., data = train): could not find function \"randomForest\"\nTraceback:\n"
     ]
    }
   ],
   "source": [
    "rf <- randomForest(\n",
    "  PremiumPrice ~ .,\n",
    "  data=train\n",
    ")"
   ]
  },
  {
   "cell_type": "code",
   "execution_count": 36,
   "metadata": {
    "execution": {
     "iopub.execute_input": "2021-08-21T16:07:11.313684Z",
     "iopub.status.busy": "2021-08-21T16:07:11.311736Z",
     "iopub.status.idle": "2021-08-21T16:07:11.335907Z"
    }
   },
   "outputs": [
    {
     "name": "stdout",
     "output_type": "stream",
     "text": [
      "function (n, df1, df2, ncp) \n",
      "{\n",
      "    if (missing(ncp)) \n",
      "        .Call(C_rf, n, df1, df2)\n",
      "    else (rchisq(n, df1, ncp = ncp)/df1)/(rchisq(n, df2)/df2)\n",
      "}\n",
      "<bytecode: 0x000000003f7374f8>\n",
      "<environment: namespace:stats>\n"
     ]
    }
   ],
   "source": [
    "print(rf)"
   ]
  },
  {
   "cell_type": "code",
   "execution_count": 37,
   "metadata": {
    "execution": {
     "iopub.execute_input": "2021-08-21T16:07:11.340079Z",
     "iopub.status.busy": "2021-08-21T16:07:11.338574Z",
     "iopub.status.idle": "2021-08-21T16:07:11.381550Z"
    }
   },
   "outputs": [
    {
     "ename": "ERROR",
     "evalue": "Error in UseMethod(\"predict\"): no applicable method for 'predict' applied to an object of class \"function\"\n",
     "output_type": "error",
     "traceback": [
      "Error in UseMethod(\"predict\"): no applicable method for 'predict' applied to an object of class \"function\"\nTraceback:\n",
      "1. predict(rf, newdata = test[-11])"
     ]
    }
   ],
   "source": [
    "pred <- predict(rf, newdata = test[-11])"
   ]
  },
  {
   "cell_type": "code",
   "execution_count": 38,
   "metadata": {
    "execution": {
     "iopub.execute_input": "2021-08-21T16:07:11.385951Z",
     "iopub.status.busy": "2021-08-21T16:07:11.384352Z",
     "iopub.status.idle": "2021-08-21T16:07:11.401376Z"
    }
   },
   "outputs": [
    {
     "ename": "ERROR",
     "evalue": "Error in table(pred, obs = test[, 11]): object 'pred' not found\n",
     "output_type": "error",
     "traceback": [
      "Error in table(pred, obs = test[, 11]): object 'pred' not found\nTraceback:\n",
      "1. table(pred, obs = test[, 11])"
     ]
    }
   ],
   "source": [
    "cm <- table(pred,obs = test[,11])\n"
   ]
  },
  {
   "cell_type": "code",
   "execution_count": 39,
   "metadata": {
    "execution": {
     "iopub.execute_input": "2021-08-21T16:07:11.405821Z",
     "iopub.status.busy": "2021-08-21T16:07:11.404132Z",
     "iopub.status.idle": "2021-08-21T16:07:11.444515Z"
    }
   },
   "outputs": [
    {
     "ename": "ERROR",
     "evalue": "Error in cm[i, j]: object of type 'closure' is not subsettable\n",
     "output_type": "error",
     "traceback": [
      "Error in cm[i, j]: object of type 'closure' is not subsettable\nTraceback:\n"
     ]
    }
   ],
   "source": [
    "sum <- 0\n",
    "for (i in 1:24){\n",
    "    for(j in 1:24){\n",
    "        if(i!=j){\n",
    "            sum <-sum+cm[i,j]\n",
    "        }\n",
    "    }\n",
    "}\n",
    "sum\n",
    "print(paste(\"The Accuracy of Random Forest Model is\",(243-sum)/2.43))"
   ]
  },
  {
   "cell_type": "markdown",
   "metadata": {},
   "source": [
    "#### **The prediction when using 75% data for training and 25% for testing turnout to be 93% using Random Forest technique.**"
   ]
  },
  {
   "cell_type": "code",
   "execution_count": null,
   "metadata": {},
   "outputs": [],
   "source": []
  },
  {
   "cell_type": "code",
   "execution_count": null,
   "metadata": {},
   "outputs": [],
   "source": []
  }
 ],
 "metadata": {
  "kernelspec": {
   "display_name": "R",
   "language": "R",
   "name": "ir"
  },
  "language_info": {
   "codemirror_mode": "r",
   "file_extension": ".r",
   "mimetype": "text/x-r-source",
   "name": "R",
   "pygments_lexer": "r",
   "version": "3.6.1"
  }
 },
 "nbformat": 4,
 "nbformat_minor": 4
}
